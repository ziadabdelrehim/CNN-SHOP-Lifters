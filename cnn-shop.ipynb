{
 "cells": [
  {
   "cell_type": "code",
   "execution_count": 1,
   "id": "b54062a6",
   "metadata": {
    "_cell_guid": "b1076dfc-b9ad-4769-8c92-a6c4dae69d19",
    "_uuid": "8f2839f25d086af736a60e9eeb907d3b93b6e0e5",
    "execution": {
     "iopub.execute_input": "2024-09-26T18:38:44.702839Z",
     "iopub.status.busy": "2024-09-26T18:38:44.702495Z",
     "iopub.status.idle": "2024-09-26T18:38:58.716998Z",
     "shell.execute_reply": "2024-09-26T18:38:58.716195Z"
    },
    "papermill": {
     "duration": 14.023531,
     "end_time": "2024-09-26T18:38:58.719312",
     "exception": false,
     "start_time": "2024-09-26T18:38:44.695781",
     "status": "completed"
    },
    "tags": []
   },
   "outputs": [
    {
     "name": "stderr",
     "output_type": "stream",
     "text": [
      "/opt/conda/lib/python3.10/site-packages/albumentations/__init__.py:13: UserWarning: A new version of Albumentations is available: 1.4.16 (you have 1.4.15). Upgrade using: pip install -U albumentations. To disable automatic update checks, set the environment variable NO_ALBUMENTATIONS_UPDATE to 1.\n",
      "  check_for_updates()\n"
     ]
    }
   ],
   "source": [
    "import cv2\n",
    "import os\n",
    "import numpy as np\n",
    "import random\n",
    "from albumentations import Compose, Rotate, HorizontalFlip, RandomBrightnessContrast\n",
    "import tensorflow as tf\n",
    "from tensorflow.keras import layers, models"
   ]
  },
  {
   "cell_type": "code",
   "execution_count": 2,
   "id": "93ccc1b1",
   "metadata": {
    "execution": {
     "iopub.execute_input": "2024-09-26T18:38:58.731318Z",
     "iopub.status.busy": "2024-09-26T18:38:58.730385Z",
     "iopub.status.idle": "2024-09-26T18:38:58.734794Z",
     "shell.execute_reply": "2024-09-26T18:38:58.733930Z"
    },
    "papermill": {
     "duration": 0.012039,
     "end_time": "2024-09-26T18:38:58.736707",
     "exception": false,
     "start_time": "2024-09-26T18:38:58.724668",
     "status": "completed"
    },
    "tags": []
   },
   "outputs": [],
   "source": [
    "lift_dir = '/kaggle/input/shopdataset/Shop DataSet/shop lifters'\n",
    "non_lift_dir = '/kaggle/input/shopdataset/Shop DataSet/non shop lifters'"
   ]
  },
  {
   "cell_type": "code",
   "execution_count": 3,
   "id": "88d5f381",
   "metadata": {
    "execution": {
     "iopub.execute_input": "2024-09-26T18:38:58.747741Z",
     "iopub.status.busy": "2024-09-26T18:38:58.747071Z",
     "iopub.status.idle": "2024-09-26T18:38:58.753705Z",
     "shell.execute_reply": "2024-09-26T18:38:58.752865Z"
    },
    "papermill": {
     "duration": 0.014152,
     "end_time": "2024-09-26T18:38:58.755683",
     "exception": false,
     "start_time": "2024-09-26T18:38:58.741531",
     "status": "completed"
    },
    "tags": []
   },
   "outputs": [],
   "source": [
    "# Function to read and resize video frames\n",
    "def read_and_preprocess_video(video_path, target_size=(224, 224), max_frames=100):\n",
    "    cap = cv2.VideoCapture(video_path)\n",
    "    frames = []\n",
    "    success, frame = cap.read()\n",
    "\n",
    "    while success and len(frames) < max_frames:\n",
    "        # Resize frame to the target size\n",
    "        frame = cv2.resize(frame, target_size)\n",
    "        frames.append(frame)\n",
    "        success, frame = cap.read()\n",
    "\n",
    "    cap.release()\n",
    "\n",
    "    # If the video has fewer frames than max_frames, pad with black frames\n",
    "    while len(frames) < max_frames:\n",
    "        frames.append(np.zeros((target_size[0], target_size[1], 3), dtype=np.uint8))\n",
    "\n",
    "    # Convert the list of frames to a numpy array\n",
    "    return np.array(frames)"
   ]
  },
  {
   "cell_type": "code",
   "execution_count": 4,
   "id": "645160da",
   "metadata": {
    "execution": {
     "iopub.execute_input": "2024-09-26T18:38:58.766682Z",
     "iopub.status.busy": "2024-09-26T18:38:58.766027Z",
     "iopub.status.idle": "2024-09-26T18:38:58.771482Z",
     "shell.execute_reply": "2024-09-26T18:38:58.770680Z"
    },
    "papermill": {
     "duration": 0.01292,
     "end_time": "2024-09-26T18:38:58.773362",
     "exception": false,
     "start_time": "2024-09-26T18:38:58.760442",
     "status": "completed"
    },
    "tags": []
   },
   "outputs": [],
   "source": [
    "# Process all videos in the given directory\n",
    "def process_videos_from_dir(dir_path, label, target_size=(112, 112), max_frames=50):\n",
    "    videos = []\n",
    "    labels = []\n",
    "    \n",
    "    for video_filename in os.listdir(dir_path):\n",
    "        video_path = os.path.join(dir_path, video_filename)\n",
    "        video_frames = read_and_preprocess_video(video_path, target_size, max_frames)\n",
    "        videos.append(video_frames)\n",
    "        labels.append(label)\n",
    "    \n",
    "    return videos, labels"
   ]
  },
  {
   "cell_type": "code",
   "execution_count": 5,
   "id": "fd3f7a35",
   "metadata": {
    "execution": {
     "iopub.execute_input": "2024-09-26T18:38:58.783948Z",
     "iopub.status.busy": "2024-09-26T18:38:58.783666Z",
     "iopub.status.idle": "2024-09-26T18:39:41.258064Z",
     "shell.execute_reply": "2024-09-26T18:39:41.257072Z"
    },
    "papermill": {
     "duration": 42.482476,
     "end_time": "2024-09-26T18:39:41.260629",
     "exception": false,
     "start_time": "2024-09-26T18:38:58.778153",
     "status": "completed"
    },
    "tags": []
   },
   "outputs": [],
   "source": [
    "# Read and process both classes\n",
    "lift_videos, lift_labels = process_videos_from_dir(lift_dir, label=1)  # Label 1 for 'lifters'\n",
    "non_lift_videos, non_lift_labels = process_videos_from_dir(non_lift_dir, label=0)  # Label 0 for 'non-lifters'\n",
    "\n",
    "# Combine the data\n",
    "all_videos = np.array(lift_videos + non_lift_videos)\n",
    "all_labels = np.array(lift_labels + non_lift_labels)"
   ]
  },
  {
   "cell_type": "code",
   "execution_count": 6,
   "id": "b7fecb6f",
   "metadata": {
    "execution": {
     "iopub.execute_input": "2024-09-26T18:39:41.271957Z",
     "iopub.status.busy": "2024-09-26T18:39:41.271599Z",
     "iopub.status.idle": "2024-09-26T18:39:41.276998Z",
     "shell.execute_reply": "2024-09-26T18:39:41.276121Z"
    },
    "papermill": {
     "duration": 0.013022,
     "end_time": "2024-09-26T18:39:41.278863",
     "exception": false,
     "start_time": "2024-09-26T18:39:41.265841",
     "status": "completed"
    },
    "tags": []
   },
   "outputs": [],
   "source": [
    "# Define augmentations\n",
    "def augment_video(frames):\n",
    "    augmentations = Compose([\n",
    "        Rotate(limit=30, p=0.5),\n",
    "        HorizontalFlip(p=0.5),\n",
    "        RandomBrightnessContrast(p=0.3)\n",
    "    ])\n",
    "    \n",
    "    augmented_frames = [augmentations(image=frame)['image'] for frame in frames]\n",
    "    return np.array(augmented_frames)\n"
   ]
  },
  {
   "cell_type": "code",
   "execution_count": 7,
   "id": "e76531c1",
   "metadata": {
    "execution": {
     "iopub.execute_input": "2024-09-26T18:39:41.290783Z",
     "iopub.status.busy": "2024-09-26T18:39:41.290456Z",
     "iopub.status.idle": "2024-09-26T18:39:48.407700Z",
     "shell.execute_reply": "2024-09-26T18:39:48.406816Z"
    },
    "papermill": {
     "duration": 7.125426,
     "end_time": "2024-09-26T18:39:48.410031",
     "exception": false,
     "start_time": "2024-09-26T18:39:41.284605",
     "status": "completed"
    },
    "tags": []
   },
   "outputs": [],
   "source": [
    "# Apply augmentations to the dataset\n",
    "augmented_videos = [augment_video(video) for video in all_videos]\n"
   ]
  },
  {
   "cell_type": "code",
   "execution_count": 8,
   "id": "a6aa5126",
   "metadata": {
    "execution": {
     "iopub.execute_input": "2024-09-26T18:39:48.421531Z",
     "iopub.status.busy": "2024-09-26T18:39:48.420856Z",
     "iopub.status.idle": "2024-09-26T18:39:48.428011Z",
     "shell.execute_reply": "2024-09-26T18:39:48.427095Z"
    },
    "papermill": {
     "duration": 0.014867,
     "end_time": "2024-09-26T18:39:48.429931",
     "exception": false,
     "start_time": "2024-09-26T18:39:48.415064",
     "status": "completed"
    },
    "tags": []
   },
   "outputs": [],
   "source": [
    "def create_cnn_model(input_shape):\n",
    "    model = models.Sequential([\n",
    "        layers.Conv3D(16, (3, 3, 3), activation='relu', input_shape=input_shape),\n",
    "        layers.MaxPooling3D((2, 2, 2)),\n",
    "        layers.Conv3D(32, (3, 3, 3), activation='relu'),\n",
    "        layers.MaxPooling3D((2, 2, 2)),\n",
    "        layers.Flatten(),\n",
    "        layers.Dense(2, activation='softmax')  # 2 classes: lift and non-lift\n",
    "    ])\n",
    "    \n",
    "    model.compile(optimizer='adam', loss='sparse_categorical_crossentropy', metrics=['accuracy'])\n",
    "    return model"
   ]
  },
  {
   "cell_type": "code",
   "execution_count": 9,
   "id": "bb316d94",
   "metadata": {
    "execution": {
     "iopub.execute_input": "2024-09-26T18:39:48.440705Z",
     "iopub.status.busy": "2024-09-26T18:39:48.440373Z",
     "iopub.status.idle": "2024-09-26T18:39:49.179752Z",
     "shell.execute_reply": "2024-09-26T18:39:49.178498Z"
    },
    "papermill": {
     "duration": 0.747652,
     "end_time": "2024-09-26T18:39:49.182426",
     "exception": false,
     "start_time": "2024-09-26T18:39:48.434774",
     "status": "completed"
    },
    "tags": []
   },
   "outputs": [
    {
     "name": "stderr",
     "output_type": "stream",
     "text": [
      "/opt/conda/lib/python3.10/site-packages/keras/src/layers/convolutional/base_conv.py:107: UserWarning: Do not pass an `input_shape`/`input_dim` argument to a layer. When using Sequential models, prefer using an `Input(shape)` object as the first layer in the model instead.\n",
      "  super().__init__(activity_regularizer=activity_regularizer, **kwargs)\n"
     ]
    }
   ],
   "source": [
    "# Define input shape (frames, height, width, channels)\n",
    "input_shape = (50, 112, 112, 3)  # 100 frames, 224x224 size, 3 color channels (RGB)\n",
    "model = create_cnn_model(input_shape)"
   ]
  },
  {
   "cell_type": "code",
   "execution_count": 10,
   "id": "80560085",
   "metadata": {
    "execution": {
     "iopub.execute_input": "2024-09-26T18:39:49.194334Z",
     "iopub.status.busy": "2024-09-26T18:39:49.193590Z",
     "iopub.status.idle": "2024-09-26T18:39:49.214482Z",
     "shell.execute_reply": "2024-09-26T18:39:49.213641Z"
    },
    "papermill": {
     "duration": 0.02877,
     "end_time": "2024-09-26T18:39:49.216475",
     "exception": false,
     "start_time": "2024-09-26T18:39:49.187705",
     "status": "completed"
    },
    "tags": []
   },
   "outputs": [
    {
     "data": {
      "text/html": [
       "<pre style=\"white-space:pre;overflow-x:auto;line-height:normal;font-family:Menlo,'DejaVu Sans Mono',consolas,'Courier New',monospace\"><span style=\"font-weight: bold\">Model: \"sequential\"</span>\n",
       "</pre>\n"
      ],
      "text/plain": [
       "\u001b[1mModel: \"sequential\"\u001b[0m\n"
      ]
     },
     "metadata": {},
     "output_type": "display_data"
    },
    {
     "data": {
      "text/html": [
       "<pre style=\"white-space:pre;overflow-x:auto;line-height:normal;font-family:Menlo,'DejaVu Sans Mono',consolas,'Courier New',monospace\">┏━━━━━━━━━━━━━━━━━━━━━━━━━━━━━━━━━┳━━━━━━━━━━━━━━━━━━━━━━━━┳━━━━━━━━━━━━━━━┓\n",
       "┃<span style=\"font-weight: bold\"> Layer (type)                    </span>┃<span style=\"font-weight: bold\"> Output Shape           </span>┃<span style=\"font-weight: bold\">       Param # </span>┃\n",
       "┡━━━━━━━━━━━━━━━━━━━━━━━━━━━━━━━━━╇━━━━━━━━━━━━━━━━━━━━━━━━╇━━━━━━━━━━━━━━━┩\n",
       "│ conv3d (<span style=\"color: #0087ff; text-decoration-color: #0087ff\">Conv3D</span>)                 │ (<span style=\"color: #00d7ff; text-decoration-color: #00d7ff\">None</span>, <span style=\"color: #00af00; text-decoration-color: #00af00\">48</span>, <span style=\"color: #00af00; text-decoration-color: #00af00\">110</span>, <span style=\"color: #00af00; text-decoration-color: #00af00\">110</span>,   │         <span style=\"color: #00af00; text-decoration-color: #00af00\">1,312</span> │\n",
       "│                                 │ <span style=\"color: #00af00; text-decoration-color: #00af00\">16</span>)                    │               │\n",
       "├─────────────────────────────────┼────────────────────────┼───────────────┤\n",
       "│ max_pooling3d (<span style=\"color: #0087ff; text-decoration-color: #0087ff\">MaxPooling3D</span>)    │ (<span style=\"color: #00d7ff; text-decoration-color: #00d7ff\">None</span>, <span style=\"color: #00af00; text-decoration-color: #00af00\">24</span>, <span style=\"color: #00af00; text-decoration-color: #00af00\">55</span>, <span style=\"color: #00af00; text-decoration-color: #00af00\">55</span>, <span style=\"color: #00af00; text-decoration-color: #00af00\">16</span>) │             <span style=\"color: #00af00; text-decoration-color: #00af00\">0</span> │\n",
       "├─────────────────────────────────┼────────────────────────┼───────────────┤\n",
       "│ conv3d_1 (<span style=\"color: #0087ff; text-decoration-color: #0087ff\">Conv3D</span>)               │ (<span style=\"color: #00d7ff; text-decoration-color: #00d7ff\">None</span>, <span style=\"color: #00af00; text-decoration-color: #00af00\">22</span>, <span style=\"color: #00af00; text-decoration-color: #00af00\">53</span>, <span style=\"color: #00af00; text-decoration-color: #00af00\">53</span>, <span style=\"color: #00af00; text-decoration-color: #00af00\">32</span>) │        <span style=\"color: #00af00; text-decoration-color: #00af00\">13,856</span> │\n",
       "├─────────────────────────────────┼────────────────────────┼───────────────┤\n",
       "│ max_pooling3d_1 (<span style=\"color: #0087ff; text-decoration-color: #0087ff\">MaxPooling3D</span>)  │ (<span style=\"color: #00d7ff; text-decoration-color: #00d7ff\">None</span>, <span style=\"color: #00af00; text-decoration-color: #00af00\">11</span>, <span style=\"color: #00af00; text-decoration-color: #00af00\">26</span>, <span style=\"color: #00af00; text-decoration-color: #00af00\">26</span>, <span style=\"color: #00af00; text-decoration-color: #00af00\">32</span>) │             <span style=\"color: #00af00; text-decoration-color: #00af00\">0</span> │\n",
       "├─────────────────────────────────┼────────────────────────┼───────────────┤\n",
       "│ flatten (<span style=\"color: #0087ff; text-decoration-color: #0087ff\">Flatten</span>)               │ (<span style=\"color: #00d7ff; text-decoration-color: #00d7ff\">None</span>, <span style=\"color: #00af00; text-decoration-color: #00af00\">237952</span>)         │             <span style=\"color: #00af00; text-decoration-color: #00af00\">0</span> │\n",
       "├─────────────────────────────────┼────────────────────────┼───────────────┤\n",
       "│ dense (<span style=\"color: #0087ff; text-decoration-color: #0087ff\">Dense</span>)                   │ (<span style=\"color: #00d7ff; text-decoration-color: #00d7ff\">None</span>, <span style=\"color: #00af00; text-decoration-color: #00af00\">2</span>)              │       <span style=\"color: #00af00; text-decoration-color: #00af00\">475,906</span> │\n",
       "└─────────────────────────────────┴────────────────────────┴───────────────┘\n",
       "</pre>\n"
      ],
      "text/plain": [
       "┏━━━━━━━━━━━━━━━━━━━━━━━━━━━━━━━━━┳━━━━━━━━━━━━━━━━━━━━━━━━┳━━━━━━━━━━━━━━━┓\n",
       "┃\u001b[1m \u001b[0m\u001b[1mLayer (type)                   \u001b[0m\u001b[1m \u001b[0m┃\u001b[1m \u001b[0m\u001b[1mOutput Shape          \u001b[0m\u001b[1m \u001b[0m┃\u001b[1m \u001b[0m\u001b[1m      Param #\u001b[0m\u001b[1m \u001b[0m┃\n",
       "┡━━━━━━━━━━━━━━━━━━━━━━━━━━━━━━━━━╇━━━━━━━━━━━━━━━━━━━━━━━━╇━━━━━━━━━━━━━━━┩\n",
       "│ conv3d (\u001b[38;5;33mConv3D\u001b[0m)                 │ (\u001b[38;5;45mNone\u001b[0m, \u001b[38;5;34m48\u001b[0m, \u001b[38;5;34m110\u001b[0m, \u001b[38;5;34m110\u001b[0m,   │         \u001b[38;5;34m1,312\u001b[0m │\n",
       "│                                 │ \u001b[38;5;34m16\u001b[0m)                    │               │\n",
       "├─────────────────────────────────┼────────────────────────┼───────────────┤\n",
       "│ max_pooling3d (\u001b[38;5;33mMaxPooling3D\u001b[0m)    │ (\u001b[38;5;45mNone\u001b[0m, \u001b[38;5;34m24\u001b[0m, \u001b[38;5;34m55\u001b[0m, \u001b[38;5;34m55\u001b[0m, \u001b[38;5;34m16\u001b[0m) │             \u001b[38;5;34m0\u001b[0m │\n",
       "├─────────────────────────────────┼────────────────────────┼───────────────┤\n",
       "│ conv3d_1 (\u001b[38;5;33mConv3D\u001b[0m)               │ (\u001b[38;5;45mNone\u001b[0m, \u001b[38;5;34m22\u001b[0m, \u001b[38;5;34m53\u001b[0m, \u001b[38;5;34m53\u001b[0m, \u001b[38;5;34m32\u001b[0m) │        \u001b[38;5;34m13,856\u001b[0m │\n",
       "├─────────────────────────────────┼────────────────────────┼───────────────┤\n",
       "│ max_pooling3d_1 (\u001b[38;5;33mMaxPooling3D\u001b[0m)  │ (\u001b[38;5;45mNone\u001b[0m, \u001b[38;5;34m11\u001b[0m, \u001b[38;5;34m26\u001b[0m, \u001b[38;5;34m26\u001b[0m, \u001b[38;5;34m32\u001b[0m) │             \u001b[38;5;34m0\u001b[0m │\n",
       "├─────────────────────────────────┼────────────────────────┼───────────────┤\n",
       "│ flatten (\u001b[38;5;33mFlatten\u001b[0m)               │ (\u001b[38;5;45mNone\u001b[0m, \u001b[38;5;34m237952\u001b[0m)         │             \u001b[38;5;34m0\u001b[0m │\n",
       "├─────────────────────────────────┼────────────────────────┼───────────────┤\n",
       "│ dense (\u001b[38;5;33mDense\u001b[0m)                   │ (\u001b[38;5;45mNone\u001b[0m, \u001b[38;5;34m2\u001b[0m)              │       \u001b[38;5;34m475,906\u001b[0m │\n",
       "└─────────────────────────────────┴────────────────────────┴───────────────┘\n"
      ]
     },
     "metadata": {},
     "output_type": "display_data"
    },
    {
     "data": {
      "text/html": [
       "<pre style=\"white-space:pre;overflow-x:auto;line-height:normal;font-family:Menlo,'DejaVu Sans Mono',consolas,'Courier New',monospace\"><span style=\"font-weight: bold\"> Total params: </span><span style=\"color: #00af00; text-decoration-color: #00af00\">491,074</span> (1.87 MB)\n",
       "</pre>\n"
      ],
      "text/plain": [
       "\u001b[1m Total params: \u001b[0m\u001b[38;5;34m491,074\u001b[0m (1.87 MB)\n"
      ]
     },
     "metadata": {},
     "output_type": "display_data"
    },
    {
     "data": {
      "text/html": [
       "<pre style=\"white-space:pre;overflow-x:auto;line-height:normal;font-family:Menlo,'DejaVu Sans Mono',consolas,'Courier New',monospace\"><span style=\"font-weight: bold\"> Trainable params: </span><span style=\"color: #00af00; text-decoration-color: #00af00\">491,074</span> (1.87 MB)\n",
       "</pre>\n"
      ],
      "text/plain": [
       "\u001b[1m Trainable params: \u001b[0m\u001b[38;5;34m491,074\u001b[0m (1.87 MB)\n"
      ]
     },
     "metadata": {},
     "output_type": "display_data"
    },
    {
     "data": {
      "text/html": [
       "<pre style=\"white-space:pre;overflow-x:auto;line-height:normal;font-family:Menlo,'DejaVu Sans Mono',consolas,'Courier New',monospace\"><span style=\"font-weight: bold\"> Non-trainable params: </span><span style=\"color: #00af00; text-decoration-color: #00af00\">0</span> (0.00 B)\n",
       "</pre>\n"
      ],
      "text/plain": [
       "\u001b[1m Non-trainable params: \u001b[0m\u001b[38;5;34m0\u001b[0m (0.00 B)\n"
      ]
     },
     "metadata": {},
     "output_type": "display_data"
    }
   ],
   "source": [
    "# Summary of the model\n",
    "model.summary()"
   ]
  },
  {
   "cell_type": "code",
   "execution_count": 11,
   "id": "7410abdd",
   "metadata": {
    "execution": {
     "iopub.execute_input": "2024-09-26T18:39:49.228965Z",
     "iopub.status.busy": "2024-09-26T18:39:49.228696Z",
     "iopub.status.idle": "2024-09-26T18:39:49.704167Z",
     "shell.execute_reply": "2024-09-26T18:39:49.703357Z"
    },
    "papermill": {
     "duration": 0.484155,
     "end_time": "2024-09-26T18:39:49.706446",
     "exception": false,
     "start_time": "2024-09-26T18:39:49.222291",
     "status": "completed"
    },
    "tags": []
   },
   "outputs": [],
   "source": [
    "# Convert data to numpy arrays for training\n",
    "X = np.array(augmented_videos)\n",
    "y = np.array(all_labels)"
   ]
  },
  {
   "cell_type": "code",
   "execution_count": 12,
   "id": "23b4bdd9",
   "metadata": {
    "execution": {
     "iopub.execute_input": "2024-09-26T18:39:49.719893Z",
     "iopub.status.busy": "2024-09-26T18:39:49.719085Z",
     "iopub.status.idle": "2024-09-26T18:39:50.901657Z",
     "shell.execute_reply": "2024-09-26T18:39:50.900816Z"
    },
    "papermill": {
     "duration": 1.191611,
     "end_time": "2024-09-26T18:39:50.904048",
     "exception": false,
     "start_time": "2024-09-26T18:39:49.712437",
     "status": "completed"
    },
    "tags": []
   },
   "outputs": [],
   "source": [
    "from sklearn.model_selection import train_test_split\n",
    "\n",
    "X_train, X_test, y_train, y_test = train_test_split(X, y, test_size=0.2, random_state=42)"
   ]
  },
  {
   "cell_type": "code",
   "execution_count": 13,
   "id": "1b8f9ceb",
   "metadata": {
    "execution": {
     "iopub.execute_input": "2024-09-26T18:39:50.918207Z",
     "iopub.status.busy": "2024-09-26T18:39:50.917153Z",
     "iopub.status.idle": "2024-09-26T18:41:24.693012Z",
     "shell.execute_reply": "2024-09-26T18:41:24.691953Z"
    },
    "papermill": {
     "duration": 93.784929,
     "end_time": "2024-09-26T18:41:24.695475",
     "exception": false,
     "start_time": "2024-09-26T18:39:50.910546",
     "status": "completed"
    },
    "tags": []
   },
   "outputs": [
    {
     "name": "stdout",
     "output_type": "stream",
     "text": [
      "Epoch 1/10\n"
     ]
    },
    {
     "name": "stderr",
     "output_type": "stream",
     "text": [
      "WARNING: All log messages before absl::InitializeLog() is called are written to STDERR\n",
      "I0000 00:00:1727375995.478652    3487 service.cc:145] XLA service 0x7edd781063b0 initialized for platform CUDA (this does not guarantee that XLA will be used). Devices:\n",
      "I0000 00:00:1727375995.478726    3487 service.cc:153]   StreamExecutor device (0): Tesla P100-PCIE-16GB, Compute Capability 6.0\n"
     ]
    },
    {
     "name": "stdout",
     "output_type": "stream",
     "text": [
      "\u001b[1m 1/54\u001b[0m \u001b[37m━━━━━━━━━━━━━━━━━━━━\u001b[0m \u001b[1m6:28\u001b[0m 7s/step - accuracy: 0.5000 - loss: 25.2439"
     ]
    },
    {
     "name": "stderr",
     "output_type": "stream",
     "text": [
      "I0000 00:00:1727376001.647509    3487 device_compiler.h:188] Compiled cluster using XLA!  This line is logged at most once for the lifetime of the process.\n"
     ]
    },
    {
     "name": "stdout",
     "output_type": "stream",
     "text": [
      "\u001b[1m54/54\u001b[0m \u001b[32m━━━━━━━━━━━━━━━━━━━━\u001b[0m\u001b[37m\u001b[0m \u001b[1m20s\u001b[0m 240ms/step - accuracy: 0.5336 - loss: 1095.3414 - val_accuracy: 0.5439 - val_loss: 0.6827\n",
      "Epoch 2/10\n",
      "\u001b[1m54/54\u001b[0m \u001b[32m━━━━━━━━━━━━━━━━━━━━\u001b[0m\u001b[37m\u001b[0m \u001b[1m8s\u001b[0m 144ms/step - accuracy: 0.5888 - loss: 0.6849 - val_accuracy: 0.5789 - val_loss: 0.6734\n",
      "Epoch 3/10\n",
      "\u001b[1m54/54\u001b[0m \u001b[32m━━━━━━━━━━━━━━━━━━━━\u001b[0m\u001b[37m\u001b[0m \u001b[1m8s\u001b[0m 144ms/step - accuracy: 0.5730 - loss: 0.6752 - val_accuracy: 0.6082 - val_loss: 0.6578\n",
      "Epoch 4/10\n",
      "\u001b[1m54/54\u001b[0m \u001b[32m━━━━━━━━━━━━━━━━━━━━\u001b[0m\u001b[37m\u001b[0m \u001b[1m8s\u001b[0m 143ms/step - accuracy: 0.6302 - loss: 0.6555 - val_accuracy: 0.6140 - val_loss: 0.6378\n",
      "Epoch 5/10\n",
      "\u001b[1m54/54\u001b[0m \u001b[32m━━━━━━━━━━━━━━━━━━━━\u001b[0m\u001b[37m\u001b[0m \u001b[1m8s\u001b[0m 143ms/step - accuracy: 0.6215 - loss: 0.6401 - val_accuracy: 0.6667 - val_loss: 0.5964\n",
      "Epoch 6/10\n",
      "\u001b[1m54/54\u001b[0m \u001b[32m━━━━━━━━━━━━━━━━━━━━\u001b[0m\u001b[37m\u001b[0m \u001b[1m8s\u001b[0m 143ms/step - accuracy: 0.6682 - loss: 0.5951 - val_accuracy: 0.6140 - val_loss: 0.6203\n",
      "Epoch 7/10\n",
      "\u001b[1m54/54\u001b[0m \u001b[32m━━━━━━━━━━━━━━━━━━━━\u001b[0m\u001b[37m\u001b[0m \u001b[1m8s\u001b[0m 144ms/step - accuracy: 0.7024 - loss: 0.5723 - val_accuracy: 0.7310 - val_loss: 0.5130\n",
      "Epoch 8/10\n",
      "\u001b[1m54/54\u001b[0m \u001b[32m━━━━━━━━━━━━━━━━━━━━\u001b[0m\u001b[37m\u001b[0m \u001b[1m8s\u001b[0m 144ms/step - accuracy: 0.8184 - loss: 0.4360 - val_accuracy: 0.9357 - val_loss: 0.3513\n",
      "Epoch 9/10\n",
      "\u001b[1m54/54\u001b[0m \u001b[32m━━━━━━━━━━━━━━━━━━━━\u001b[0m\u001b[37m\u001b[0m \u001b[1m8s\u001b[0m 144ms/step - accuracy: 0.8592 - loss: 0.3573 - val_accuracy: 0.9591 - val_loss: 0.2683\n",
      "Epoch 10/10\n",
      "\u001b[1m54/54\u001b[0m \u001b[32m━━━━━━━━━━━━━━━━━━━━\u001b[0m\u001b[37m\u001b[0m \u001b[1m8s\u001b[0m 143ms/step - accuracy: 0.8842 - loss: 0.3117 - val_accuracy: 0.9649 - val_loss: 0.1157\n"
     ]
    }
   ],
   "source": [
    "# Train the model\n",
    "history = model.fit(X, y, epochs=10, batch_size=16, validation_data=(X_test, y_test))"
   ]
  },
  {
   "cell_type": "code",
   "execution_count": 14,
   "id": "f4553249",
   "metadata": {
    "execution": {
     "iopub.execute_input": "2024-09-26T18:41:24.796358Z",
     "iopub.status.busy": "2024-09-26T18:41:24.795998Z",
     "iopub.status.idle": "2024-09-26T18:41:25.299838Z",
     "shell.execute_reply": "2024-09-26T18:41:25.298885Z"
    },
    "papermill": {
     "duration": 0.557025,
     "end_time": "2024-09-26T18:41:25.301812",
     "exception": false,
     "start_time": "2024-09-26T18:41:24.744787",
     "status": "completed"
    },
    "tags": []
   },
   "outputs": [
    {
     "data": {
      "image/png": "[encoded data removed]",
      "text/plain": [
       "<Figure size 1200x500 with 2 Axes>"
      ]
     },
     "metadata": {},
     "output_type": "display_data"
    }
   ],
   "source": [
    "import pandas as pd\n",
    "import matplotlib.pyplot as plt\n",
    "\n",
    "loss_acc_metrics_df = pd.DataFrame(history.history)\n",
    "\n",
    "# Plot training and validation loss\n",
    "plt.figure(figsize=(12, 5))\n",
    "plt.subplot(1, 2, 1)\n",
    "plt.plot(loss_acc_metrics_df['loss'], label='Training Loss')\n",
    "plt.plot(loss_acc_metrics_df['val_loss'], label='Validation Loss')\n",
    "plt.xlabel('Epochs')\n",
    "plt.ylabel('Loss')\n",
    "plt.title('Training and Validation Loss')\n",
    "plt.legend()\n",
    "\n",
    "# Plot training and validation accuracy\n",
    "plt.subplot(1, 2, 2)\n",
    "plt.plot(loss_acc_metrics_df['accuracy'], label='Training Accuracy')\n",
    "plt.plot(loss_acc_metrics_df['val_accuracy'], label='Validation Accuracy')\n",
    "plt.xlabel('Epochs')\n",
    "plt.ylabel('Accuracy')\n",
    "plt.title('Training and Validation Accuracy')\n",
    "plt.legend()\n",
    "\n",
    "plt.show()"
   ]
  },
  {
   "cell_type": "code",
   "execution_count": 15,
   "id": "d803ae9c",
   "metadata": {
    "execution": {
     "iopub.execute_input": "2024-09-26T18:41:25.411025Z",
     "iopub.status.busy": "2024-09-26T18:41:25.403451Z",
     "iopub.status.idle": "2024-09-26T18:41:28.666583Z",
     "shell.execute_reply": "2024-09-26T18:41:28.665691Z"
    },
    "papermill": {
     "duration": 3.315664,
     "end_time": "2024-09-26T18:41:28.668473",
     "exception": false,
     "start_time": "2024-09-26T18:41:25.352809",
     "status": "completed"
    },
    "tags": []
   },
   "outputs": [
    {
     "name": "stdout",
     "output_type": "stream",
     "text": [
      "\u001b[1m6/6\u001b[0m \u001b[32m━━━━━━━━━━━━━━━━━━━━\u001b[0m\u001b[37m\u001b[0m \u001b[1m2s\u001b[0m 73ms/step - accuracy: 0.9662 - loss: 0.1175\n",
      "Test Loss: 0.11566400527954102\n",
      "Test Accuracy: 0.9649122953414917\n"
     ]
    }
   ],
   "source": [
    "loss, accuracy = model.evaluate(X_test, y_test)\n",
    "print(f\"Test Loss: {loss}\")\n",
    "print(f\"Test Accuracy: {accuracy}\")"
   ]
  },
  {
   "cell_type": "code",
   "execution_count": null,
   "id": "9dfcfbb8",
   "metadata": {
    "papermill": {
     "duration": 0.049539,
     "end_time": "2024-09-26T18:41:28.768480",
     "exception": false,
     "start_time": "2024-09-26T18:41:28.718941",
     "status": "completed"
    },
    "tags": []
   },
   "outputs": [],
   "source": []
  }
 ],
 "metadata": {
  "kaggle": {
   "accelerator": "gpu",
   "dataSources": [
    {
     "datasetId": 5772711,
     "sourceId": 9488628,
     "sourceType": "datasetVersion"
    }
   ],
   "dockerImageVersionId": 30776,
   "isGpuEnabled": true,
   "isInternetEnabled": true,
   "language": "python",
   "sourceType": "notebook"
  },
  "kernelspec": {
   "display_name": "Python 3",
   "language": "python",
   "name": "python3"
  },
  "language_info": {
   "codemirror_mode": {
    "name": "ipython",
    "version": 3
   },
   "file_extension": ".py",
   "mimetype": "text/x-python",
   "name": "python",
   "nbconvert_exporter": "python",
   "pygments_lexer": "ipython3",
   "version": "3.10.14"
  },
  "papermill": {
   "default_parameters": {},
   "duration": 169.780932,
   "end_time": "2024-09-26T18:41:31.791341",
   "environment_variables": {},
   "exception": null,
   "input_path": "__notebook__.ipynb",
   "output_path": "__notebook__.ipynb",
   "parameters": {},
   "start_time": "2024-09-26T18:38:42.010409",
   "version": "2.6.0"
  }
 },
 "nbformat": 4,
 "nbformat_minor": 5
}
